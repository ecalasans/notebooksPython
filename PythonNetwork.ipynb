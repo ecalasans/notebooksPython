{
 "cells": [
  {
   "cell_type": "markdown",
   "metadata": {
    "collapsed": true
   },
   "source": [
    "###Estudos do livro Python Network Programming Cookbook\n",
    "_1.  Instalação de itens necessários_"
   ]
  },
  {
   "cell_type": "code",
   "execution_count": 1,
   "metadata": {},
   "outputs": [],
   "source": [
    "import socket\n",
    "import numpy as np"
   ]
  },
  {
   "cell_type": "markdown",
   "metadata": {},
   "source": [
    "*2.  Chapter 1*\n",
    "\n",
    "*2.1*"
   ]
  },
  {
   "cell_type": "code",
   "execution_count": 2,
   "metadata": {},
   "outputs": [
    {
     "name": "stdout",
     "output_type": "stream",
     "text": [
      "Host name: DESKTOP-DIBIR9D\nIP address:  192.168.0.16\n"
     ]
    }
   ],
   "source": [
    "hostName = socket.gethostname()\n",
    "ipAddress = socket.gethostbyname(hostName)\n",
    "    \n",
    "print(\"Host name: %s\" % hostName)\n",
    "print(\"IP address:  %s\" % ipAddress)"
   ]
  },
  {
   "cell_type": "markdown",
   "metadata": {},
   "source": [
    "*2.2 - Printing your machine's name and IPv4 address*"
   ]
  },
  {
   "cell_type": "code",
   "execution_count": 6,
   "metadata": {},
   "outputs": [
    {
     "name": "stdout",
     "output_type": "stream",
     "text": [
      "IP address: 177.20.144.28\n"
     ]
    }
   ],
   "source": [
    "remoteHost = 'www.sigaa.ufrn.br'\n",
    "\n",
    "try:\n",
    "    print(\"IP address: %s\" % socket.gethostbyname(remoteHost))\n",
    "except OSError as err:\n",
    "    print(\"%s:  %s\" % (remoteHost, err.strerror))"
   ]
  },
  {
   "cell_type": "markdown",
   "metadata": {},
   "source": [
    "*2.3 - Converting an IPv4 address to different formats*"
   ]
  },
  {
   "cell_type": "code",
   "execution_count": 8,
   "metadata": {},
   "outputs": [
    {
     "name": "stdout",
     "output_type": "stream",
     "text": [
      "IP address:  216.58.202.164 ==> Packed:  b'd83acaa4'\tUnpacked:  216.58.202.164\nIP address:  54.230.59.137 ==> Packed:  b'36e63b89'\tUnpacked:  54.230.59.137\nIP address:  177.20.144.28 ==> Packed:  b'b114901c'\tUnpacked:  177.20.144.28\n"
     ]
    }
   ],
   "source": [
    "from binascii import hexlify\n",
    "\n",
    "addresses = ['www.google.com', 'www.uol.com.br', 'www.sigaa.ufrn.br']\n",
    "ipAdresses = [socket.gethostbyname(addressItem) for addressItem in addresses]\n",
    "\n",
    "for ips in ipAdresses:\n",
    "    packedIpAddress = socket.inet_aton(ips)\n",
    "    unpackedIpAdrress = socket.inet_ntoa(packedIpAddress)\n",
    "    \n",
    "    print(\"IP address:  %s ==> Packed:  %s\\tUnpacked:  %s\" % (ips, hexlify(packedIpAddress), unpackedIpAdrress))"
   ]
  },
  {
   "cell_type": "markdown",
   "metadata": {},
   "source": [
    "*2.4 - Finding a service name, given the port and protocol*"
   ]
  },
  {
   "cell_type": "code",
   "execution_count": 11,
   "metadata": {},
   "outputs": [
    {
     "name": "stdout",
     "output_type": "stream",
     "text": [
      "Scanning protocol tcp\nPort: 25 ==> service name:  smtp\nPort: 80 ==> service name:  http\nPort: 440 ==> service name:  no service in this port \nPort: 110 ==> service name:  pop3\nPort: 428 ==> service name:  no service in this port \nPort: 3658 ==> service name:  no service in this port \nPort: 62 ==> service name:  no service in this port \nScanning protocol udp\nPort: 25 ==> service name:  no service in this port \nPort: 80 ==> service name:  no service in this port \nPort: 440 ==> service name:  no service in this port \nPort: 110 ==> service name:  no service in this port \nPort: 428 ==> service name:  no service in this port \nPort: 3658 ==> service name:  no service in this port \nPort: 62 ==> service name:  no service in this port \n"
     ]
    }
   ],
   "source": [
    "protocolName = ['tcp', 'udp']\n",
    "ports = [25,80,440,110,428,3658,62]\n",
    "\n",
    "for protocolo in protocolName:\n",
    "    print(\"Scanning protocol %s\" % protocolo)\n",
    "    for port in ports:\n",
    "        try:\n",
    "            print(\"Port: %s ==> service name:  %s\" % (port, socket.getservbyport(port, protocolo)))\n",
    "        except OSError as err:\n",
    "            print(\"Port: %s ==> service name:  no service in this port \" % port)\n",
    "        "
   ]
  },
  {
   "cell_type": "code",
   "execution_count": null,
   "metadata": {},
   "outputs": [],
   "source": []
  }
 ],
 "metadata": {
  "kernelspec": {
   "display_name": "Python 2",
   "language": "python",
   "name": "python2"
  },
  "language_info": {
   "codemirror_mode": {
    "name": "ipython",
    "version": 2
   },
   "file_extension": ".py",
   "mimetype": "text/x-python",
   "name": "python",
   "nbconvert_exporter": "python",
   "pygments_lexer": "ipython2",
   "version": "2.7.6"
  }
 },
 "nbformat": 4,
 "nbformat_minor": 0
}
